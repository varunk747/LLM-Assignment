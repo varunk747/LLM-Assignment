{
 "cells": [
  {
   "cell_type": "code",
   "execution_count": 1,
   "metadata": {},
   "outputs": [],
   "source": [
    "# pip install tflearn"
   ]
  },
  {
   "cell_type": "code",
   "execution_count": 2,
   "metadata": {},
   "outputs": [
    {
     "name": "stdout",
     "output_type": "stream",
     "text": [
      "WARNING:tensorflow:From C:\\Users\\varun\\anaconda3\\lib\\site-packages\\tensorflow\\python\\compat\\v2_compat.py:107: disable_resource_variables (from tensorflow.python.ops.variable_scope) is deprecated and will be removed in a future version.\n",
      "Instructions for updating:\n",
      "non-resource variables are not supported in the long term\n",
      "curses is not supported on this machine (please install/reinstall curses for an optimal experience)\n"
     ]
    }
   ],
   "source": [
    "#Used in Tensorflow Model\n",
    "import numpy as np\n",
    "import tensorflow as tf\n",
    "import tflearn\n",
    "import random\n",
    "\n",
    "#Used for Contextualisation and Other NLP Tasks.\n",
    "import nltk\n",
    "from nltk.stem.lancaster import LancasterStemmer\n",
    "stemmer = LancasterStemmer()\n",
    "\n",
    "#Other\n",
    "import json\n",
    "import pickle\n",
    "import warnings\n",
    "warnings.filterwarnings(\"ignore\")"
   ]
  },
  {
   "cell_type": "code",
   "execution_count": 3,
   "metadata": {},
   "outputs": [
    {
     "name": "stdout",
     "output_type": "stream",
     "text": [
      "Processing the Intents.....\n"
     ]
    }
   ],
   "source": [
    "print(\"Processing the Intents.....\")\n",
    "with open('intents.json') as json_data:\n",
    "    intents = json.load(json_data)"
   ]
  },
  {
   "cell_type": "code",
   "execution_count": 4,
   "metadata": {},
   "outputs": [
    {
     "name": "stderr",
     "output_type": "stream",
     "text": [
      "[nltk_data] Downloading package punkt to\n",
      "[nltk_data]     C:\\Users\\varun\\AppData\\Roaming\\nltk_data...\n",
      "[nltk_data]   Package punkt is already up-to-date!\n"
     ]
    },
    {
     "data": {
      "text/plain": [
       "True"
      ]
     },
     "execution_count": 4,
     "metadata": {},
     "output_type": "execute_result"
    }
   ],
   "source": [
    "import nltk\n",
    "nltk.download('punkt')"
   ]
  },
  {
   "cell_type": "code",
   "execution_count": 5,
   "metadata": {},
   "outputs": [
    {
     "name": "stdout",
     "output_type": "stream",
     "text": [
      "Looping through the Intents to Convert them to words, classes, documents and ignore_words.......\n"
     ]
    }
   ],
   "source": [
    "words = []\n",
    "classes = []\n",
    "documents = []\n",
    "ignore_words = ['?']\n",
    "print(\"Looping through the Intents to Convert them to words, classes, documents and ignore_words.......\")\n",
    "for intent in intents['intents']:\n",
    "    for pattern in intent['patterns']:\n",
    "        # tokenize each word in the sentence\n",
    "        w = nltk.word_tokenize(pattern)\n",
    "        # add to our words list\n",
    "        words.extend(w)\n",
    "        # add to documents in our corpus\n",
    "        documents.append((w, intent['tag']))\n",
    "        # add to our classes list\n",
    "        if intent['tag'] not in classes:\n",
    "            classes.append(intent['tag'])"
   ]
  },
  {
   "cell_type": "code",
   "execution_count": 6,
   "metadata": {},
   "outputs": [
    {
     "name": "stdout",
     "output_type": "stream",
     "text": [
      "Stemming, Lowering and Removing Duplicates.......\n",
      "277 documents\n",
      "42 classes ['about', 'art', 'books', 'bye', 'career', 'cooking', 'education', 'emotion', 'environment', 'fashion', 'finance', 'fitness', 'food', 'gardening', 'goodbye', 'greetings', 'health', 'help', 'hi', 'history', 'joke', 'languages', 'mindfulness', 'movies', 'music', 'name', 'news', 'opentoday', 'parenting', 'pets', 'photography', 'psychology', 'relationships', 'science', 'self-improvement', 'sports', 'technology', 'thanks', 'time', 'travel', 'weather', 'writing']\n",
      "246 unique stemmed words ['!', \"'m\", \"'s\", '.', 'a', 'about', 'act', 'adv', 'afternoon', 'an', 'angry', 'anxy', 'any', 'ap', 'apart', 'apprecy', 'ar', 'art', 'assist', 'athlet', 'auth', 'be', 'beauty', 'becom', 'begin', 'behavy', 'benef', 'benefit', 'bet', 'book', 'bree', 'budget-friendly', 'bye', 'can', 'car', 'cold', 'common', 'commun', 'conceiv', 'conserv', 'contribut', 'cook', 'cuisin', 'cur', 'dai', 'day', 'delicy', 'design', 'destin', 'develop', 'direct', 'discovery', 'dish', 'do', 'docu', 'eco-friendly', 'educ', 'eng', 'enh', 'entrepr', 'environ', 'ev', 'excit', 'exerc', 'expery', 'expl', 'fact', 'fam', 'farewel', 'fash', 'favorit', 'feel', 'film', 'filmmak', 'fin', 'fit', 'food', 'for', 'forecast', 'form', 'gadget', 'gard', 'genr', 'going', 'good', 'goodby', 'grat', 'gre', 'habit', 'hap', 'happy', 'hav', 'heal', 'healthy', 'hear', 'hello', 'help', 'hey', 'hi', 'hist', 'hour', 'how', 'howdy', 'hum', 'i', 'improv', 'in', 'incorp', 'influ', 'innov', 'interest', 'into', 'invest', 'is', 'issu', 'it', 'jok', 'know', 'landmark', 'langu', 'lat', 'latest', 'learn', 'lif', 'lifestyl', 'lik', 'lit', 'look', 'lot', 'man', 'many', 'may', 'me', 'med', 'medit', 'mem', 'mind', 'mor', 'morn', 'mot', 'movy', 'much', 'mus', 'my', 'myself', 'nam', 'nee', 'new', 'nic', 'not', 'now', 'of', 'on', 'op', 'opportun', 'outsid', 'overal', 'par', 'perform', 'period', 'person', 'pet', 'photograph', 'plac', 'plan', 'plant', 'pleas', 'popul', 'pract', 'profess', 'psycholog', 'purpos', 'quest', 'rain', 'read', 'real', 'recip', 'recommend', 'rel', 'remedy', 'resourc', 'resta', 'right', 'routin', 'sad', 'sci', 'see', 'self-help', 'self-improvement', 'skil', 'smal', 'smart', 'so', 'som', 'someth', 'song', 'spec', 'sport', 'start', 'stay', 'strategy', 'stressed', 'study', 'styl', 'success', 'suggest', 'sunny', 'tak', 'tech', 'techn', 'technolog', 'tel', 'temp', 'thank', 'that', 'the', 'tim', 'tip', 'to', 'today', 'tool', 'travel', 'trend', 'trip', 'umbrell', 'understand', 'upd', 'us', 'vert', 'visit', 'want', 'watch', 'weath', 'wel', 'well-being', 'what', 'when', 'who', 'wil', 'with', 'workout', 'world', 'writ', 'yo', 'you', 'yourself']\n"
     ]
    }
   ],
   "source": [
    "print(\"Stemming, Lowering and Removing Duplicates.......\")\n",
    "words = [stemmer.stem(w.lower()) for w in words if w not in ignore_words]\n",
    "words = sorted(list(set(words)))\n",
    "\n",
    "# remove duplicates\n",
    "classes = sorted(list(set(classes)))\n",
    "\n",
    "print (len(documents), \"documents\")\n",
    "print (len(classes), \"classes\", classes)\n",
    "print (len(words), \"unique stemmed words\", words)"
   ]
  },
  {
   "cell_type": "code",
   "execution_count": 7,
   "metadata": {},
   "outputs": [
    {
     "name": "stdout",
     "output_type": "stream",
     "text": [
      "Creating the Data for our Model.....\n",
      "Creating an List (Empty) for Output.....\n",
      "Creating Traning Set, Bag of Words for our Model....\n"
     ]
    }
   ],
   "source": [
    "print(\"Creating the Data for our Model.....\")\n",
    "training = []\n",
    "output = []\n",
    "print(\"Creating an List (Empty) for Output.....\")\n",
    "output_empty = [0] * len(classes)\n",
    "\n",
    "print(\"Creating Traning Set, Bag of Words for our Model....\")\n",
    "for doc in documents:\n",
    "    # initialize our bag of words\n",
    "    bag = []\n",
    "    # list of tokenized words for the pattern\n",
    "    pattern_words = doc[0]\n",
    "    # stem each word\n",
    "    pattern_words = [stemmer.stem(word.lower()) for word in pattern_words]\n",
    "    # create our bag of words array\n",
    "    for w in words:\n",
    "        bag.append(1) if w in pattern_words else bag.append(0)\n",
    "\n",
    "    # output is a '0' for each tag and '1' for current tag\n",
    "    output_row = list(output_empty)\n",
    "    output_row[classes.index(doc[1])] = 1\n",
    "\n",
    "    training.append([bag, output_row])"
   ]
  },
  {
   "cell_type": "code",
   "execution_count": 8,
   "metadata": {},
   "outputs": [
    {
     "name": "stdout",
     "output_type": "stream",
     "text": [
      "Shuffling Randomly and Converting into Numpy Array for Faster Processing......\n",
      "Creating Train and Test Lists.....\n",
      "Building Neural Network for Out Chatbot to be Contextual....\n",
      "Resetting graph data....\n"
     ]
    }
   ],
   "source": [
    "print(\"Shuffling Randomly and Converting into Numpy Array for Faster Processing......\")\n",
    "random.shuffle(training)\n",
    "training = np.array(training)\n",
    "\n",
    "print(\"Creating Train and Test Lists.....\")\n",
    "train_x = list(training[:,0])\n",
    "train_y = list(training[:,1])\n",
    "print(\"Building Neural Network for Out Chatbot to be Contextual....\")\n",
    "print(\"Resetting graph data....\")\n",
    "# tf.reset_default_graph()\n",
    "tf.compat.v1.reset_default_graph()"
   ]
  },
  {
   "cell_type": "code",
   "execution_count": 9,
   "metadata": {},
   "outputs": [
    {
     "name": "stdout",
     "output_type": "stream",
     "text": [
      "WARNING:tensorflow:From C:\\Users\\varun\\anaconda3\\lib\\site-packages\\tflearn\\initializations.py:164: calling TruncatedNormal.__init__ (from tensorflow.python.ops.init_ops) with dtype is deprecated and will be removed in a future version.\n",
      "Instructions for updating:\n",
      "Call initializer instance with the dtype argument instead of passing it to the constructor\n",
      "Training....\n"
     ]
    }
   ],
   "source": [
    "net = tflearn.input_data(shape=[None, len(train_x[0])])\n",
    "net = tflearn.fully_connected(net, 8)\n",
    "net = tflearn.fully_connected(net, 8)\n",
    "net = tflearn.fully_connected(net, len(train_y[0]), activation='softmax')\n",
    "net = tflearn.regression(net)\n",
    "print(\"Training....\")"
   ]
  },
  {
   "cell_type": "code",
   "execution_count": 10,
   "metadata": {},
   "outputs": [],
   "source": [
    "model = tflearn.DNN(net, tensorboard_dir='tflearn_logs')"
   ]
  },
  {
   "cell_type": "code",
   "execution_count": 11,
   "metadata": {},
   "outputs": [
    {
     "name": "stdout",
     "output_type": "stream",
     "text": [
      "Training Step: 34999  | total loss: \u001b[1m\u001b[32m0.07780\u001b[0m\u001b[0m | time: 0.089s\n",
      "| Adam | epoch: 1000 | loss: 0.07780 - acc: 0.9457 -- iter: 272/277\n",
      "Training Step: 35000  | total loss: \u001b[1m\u001b[32m0.07003\u001b[0m\u001b[0m | time: 0.091s\n",
      "| Adam | epoch: 1000 | loss: 0.07003 - acc: 0.9511 -- iter: 277/277\n",
      "--\n",
      "Saving the Model.......\n",
      "INFO:tensorflow:C:\\Users\\varun\\0 Python Notebooks and Data\\NLP Assignment\\ChatBot_Tensorflow_NLP-master\\ChatBot_Tensorflow_NLP-master\\model.tflearn is not in all_model_checkpoint_paths. Manually adding it.\n"
     ]
    }
   ],
   "source": [
    "print(\"Training the Model.......\")\n",
    "model.fit(train_x, train_y, n_epoch=1000, batch_size=8, show_metric=True)\n",
    "print(\"Saving the Model.......\")\n",
    "model.save('model.tflearn')\n"
   ]
  },
  {
   "cell_type": "code",
   "execution_count": 12,
   "metadata": {},
   "outputs": [
    {
     "name": "stdout",
     "output_type": "stream",
     "text": [
      "Pickle is also Saved..........\n"
     ]
    }
   ],
   "source": [
    "print(\"Pickle is also Saved..........\")\n",
    "pickle.dump( {'words':words, 'classes':classes, 'train_x':train_x, 'train_y':train_y}, open( \"training_data\", \"wb\" ) )"
   ]
  },
  {
   "cell_type": "code",
   "execution_count": 13,
   "metadata": {},
   "outputs": [
    {
     "name": "stdout",
     "output_type": "stream",
     "text": [
      "Loading Pickle.....\n",
      "Loading the Model......\n",
      "INFO:tensorflow:Restoring parameters from C:\\Users\\varun\\0 Python Notebooks and Data\\NLP Assignment\\ChatBot_Tensorflow_NLP-master\\ChatBot_Tensorflow_NLP-master\\model.tflearn\n"
     ]
    }
   ],
   "source": [
    "print(\"Loading Pickle.....\")\n",
    "data = pickle.load( open( \"training_data\", \"rb\" ) )\n",
    "words = data['words']\n",
    "classes = data['classes']\n",
    "train_x = data['train_x']\n",
    "train_y = data['train_y']\n",
    "\n",
    "\n",
    "with open('intents.json') as json_data:\n",
    "    intents = json.load(json_data)\n",
    "    \n",
    "print(\"Loading the Model......\")\n",
    "# load our saved model\n",
    "model.load('./model.tflearn')"
   ]
  },
  {
   "cell_type": "code",
   "execution_count": 14,
   "metadata": {},
   "outputs": [
    {
     "name": "stdout",
     "output_type": "stream",
     "text": [
      "ERROR_THRESHOLD = 0.25\n"
     ]
    }
   ],
   "source": [
    "def clean_up_sentence(sentence):\n",
    "    # It Tokenize or Break it into the constituents parts of Sentense.\n",
    "    sentence_words = nltk.word_tokenize(sentence)\n",
    "    # Stemming means to find the root of the word.\n",
    "    sentence_words = [stemmer.stem(word.lower()) for word in sentence_words]\n",
    "    return sentence_words\n",
    "\n",
    "# Return the Array of Bag of Words: True or False and 0 or 1 for each word of bag that exists in the Sentence\n",
    "def bow(sentence, words, show_details=False):\n",
    "    sentence_words = clean_up_sentence(sentence)\n",
    "    bag = [0]*len(words)\n",
    "    for s in sentence_words:\n",
    "        for i,w in enumerate(words):\n",
    "            if w == s:\n",
    "                bag[i] = 1\n",
    "                if show_details:\n",
    "                    print (\"found in bag: %s\" % w)\n",
    "    return(np.array(bag))\n",
    "\n",
    "ERROR_THRESHOLD = 0.25\n",
    "print(\"ERROR_THRESHOLD = 0.25\")\n",
    "\n",
    "def classify(sentence):\n",
    "    # Prediction or To Get the Posibility or Probability from the Model\n",
    "    results = model.predict([bow(sentence, words)])[0]\n",
    "    # Exclude those results which are Below Threshold\n",
    "    results = [[i,r] for i,r in enumerate(results) if r>ERROR_THRESHOLD]\n",
    "    # Sorting is Done because heigher Confidence Answer comes first.\n",
    "    results.sort(key=lambda x: x[1], reverse=True)\n",
    "    return_list = []\n",
    "    for r in results:\n",
    "        return_list.append((classes[r[0]], r[1])) #Tuppl -> Intent and Probability\n",
    "    return return_list\n",
    "\n",
    "def response(sentence, userID='123', show_details=False):\n",
    "    results = classify(sentence)\n",
    "    # That Means if Classification is Done then Find the Matching Tag.\n",
    "    if results:\n",
    "        # Long Loop to get the Result.\n",
    "        while results:\n",
    "            for i in intents['intents']:\n",
    "                # Tag Finding\n",
    "                if i['tag'] == results[0][0]:\n",
    "                    # Random Response from High Order Probabilities\n",
    "                    return print(random.choice(i['responses']))\n",
    "\n",
    "            results.pop(0)"
   ]
  },
  {
   "cell_type": "code",
   "execution_count": 15,
   "metadata": {},
   "outputs": [],
   "source": [
    "# das"
   ]
  },
  {
   "cell_type": "code",
   "execution_count": null,
   "metadata": {
    "scrolled": false
   },
   "outputs": [
    {
     "name": "stdout",
     "output_type": "stream",
     "text": [
      "You- hey\n",
      "Greetings!\n",
      "You- i'm not feeling well\n",
      "If you have a medical question or are seeking remedies for a common cold, it's best to consult with a healthcare professional. They can provide accurate medical advice and suggest appropriate remedies based on your symptoms.\n",
      "You- do you have any medical advice\n",
      "Sure! Are you looking for resources in a specific subject or area of study?\n",
      "You- health tips\n",
      "To maintain good health, it's important to follow a balanced diet, engage in regular physical activity, get enough restful sleep, and manage stress. However, for personalized advice, I recommend consulting with a healthcare professional.\n",
      "You- thanks\n",
      "You're welcome! If there's anything else I can do for you, let me know.\n",
      "You- do you know any jokes?\n",
      "Did you hear about the mathematician who's afraid of negative numbers? He'll stop at nothing to avoid them!\n",
      "You- tell me about a good movie\n",
      "Sure! How about 'Inception', 'The Dark Knight', or 'Interstellar'?\n",
      "You- can you give me some career tips\n",
      "I can recommend books based on different genres. What genre would you like to explore?\n",
      "You- career advice\n",
      "How about exploring online courses, attending industry conferences, or seeking mentorship to enhance your career prospects?\n",
      "You- any tips on art?\n",
      "Sure! Are you interested in exploring historical sites, natural wonders, or vibrant cities?\n",
      "You- no thanks\n",
      "You're welcome! If there's anything else I can do for you, let me know.\n",
      "You- how can i better my relationship?\n",
      "Maintaining open and honest communication, practicing empathy, and investing time in building connections are important for healthy relationships.\n",
      "You- any fashion advice?\n",
      "Fashion trends vary over time and across cultures. It's important to choose styles that align with your personal preferences and make you feel confident.\n",
      "You- do you know any cheap places to travel?\n",
      "I can recommend workout routines based on different goals. What specific fitness goals are you aiming for?\n",
      "You- cheap places to travel\n",
      "How about visiting the stunning landscapes of Iceland, the historic landmarks of Rome, or the bustling streets of Tokyo?\n"
     ]
    }
   ],
   "source": [
    "while True:\n",
    "    input_data = input(\"You- \")\n",
    "    answer = response(input_data)\n",
    "    answer"
   ]
  }
 ],
 "metadata": {
  "kernelspec": {
   "display_name": "Python 3 (ipykernel)",
   "language": "python",
   "name": "python3"
  },
  "language_info": {
   "codemirror_mode": {
    "name": "ipython",
    "version": 3
   },
   "file_extension": ".py",
   "mimetype": "text/x-python",
   "name": "python",
   "nbconvert_exporter": "python",
   "pygments_lexer": "ipython3",
   "version": "3.9.7"
  }
 },
 "nbformat": 4,
 "nbformat_minor": 2
}
